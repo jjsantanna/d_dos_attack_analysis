{
 "cells": [
  {
   "cell_type": "markdown",
   "metadata": {},
   "source": [
    "###### Importing the needed libraries"
   ]
  },
  {
   "cell_type": "code",
   "execution_count": 1,
   "metadata": {
    "collapsed": true
   },
   "outputs": [],
   "source": [
    "import argparse\n",
    "import dpkt\n",
    "import socket\n",
    "import os"
   ]
  },
  {
   "cell_type": "markdown",
   "metadata": {},
   "source": [
    "###### Defining the arguments to run the python script. Note that the while the 'inputfile' is required, the 'output' argument isn't."
   ]
  },
  {
   "cell_type": "code",
   "execution_count": 2,
   "metadata": {
    "collapsed": false
   },
   "outputs": [
    {
     "data": {
      "text/plain": [
       "_StoreAction(option_strings=['-o', '--outputfile'], dest='outputfile', nargs='?', const=None, default=None, type=FileType('w'), choices=None, help='output file, in txt format', metavar=None)"
      ]
     },
     "execution_count": 2,
     "metadata": {},
     "output_type": "execute_result"
    }
   ],
   "source": [
    "parser = argparse.ArgumentParser()\n",
    "parser.add_argument('-i', '--inputfile',\n",
    "                    type=argparse.FileType('r'), \n",
    "                    help='input file, in pcap format NOT pcapng or others')\n",
    "parser.add_argument('-o', '--outputfile', \n",
    "                    nargs='?', \n",
    "                    type=argparse.FileType('w'), \n",
    "                    help='output file, in txt format')"
   ]
  },
  {
   "cell_type": "markdown",
   "metadata": {},
   "source": [
    "###### Reading the arguments and dealing with the 'outputfile'"
   ]
  },
  {
   "cell_type": "code",
   "execution_count": 3,
   "metadata": {
    "collapsed": false
   },
   "outputs": [],
   "source": [
    "args = parser.parse_args()\n",
    "#args = parser.parse_args(['-i', 'prod-anon-001.pcap']) #example to test\n",
    "inputfile = args.inputfile\n",
    "\n",
    "if args.outputfile is not None:\n",
    "    outputfile = args.outputfile \n",
    "else:\n",
    "    outputfile = open(os.path.splitext(inputfile.name)[0]+'.txt','w')"
   ]
  },
  {
   "cell_type": "markdown",
   "metadata": {},
   "source": [
    "###### Loading the 'inputfile' as a pcap file, via dpkt library."
   ]
  },
  {
   "cell_type": "code",
   "execution_count": 4,
   "metadata": {
    "collapsed": true
   },
   "outputs": [],
   "source": [
    "pcapfile = dpkt.pcap.Reader(inputfile)"
   ]
  },
  {
   "cell_type": "markdown",
   "metadata": {},
   "source": [
    "###### Reading and Printing in the 'outputfile' the 33 information about the pcap file (in the same order as the output of packetpig)"
   ]
  },
  {
   "cell_type": "code",
   "execution_count": 5,
   "metadata": {
    "collapsed": false
   },
   "outputs": [],
   "source": [
    "for ts, buf in pcapfile:\n",
    "    eth = dpkt.ethernet.Ethernet(buf)\n",
    "\n",
    "    #FILTERING ONLY FOR IP\n",
    "    if eth.type == dpkt.ethernet.ETH_TYPE_IP:\n",
    "        ip = eth.data #Loading the content of the ethernet into a variable 'ip'\n",
    "        proto = ip.data #Loading the content of the 'ip' into a variable 'protocol' that can be for example ICMP, TCP, and UDP.\n",
    "        ts = ts #1\n",
    "        ip_version = ip.v #2\n",
    "        ip_header_length = ip.hl #3\n",
    "        ip_tos = ip.tos #4\n",
    "        ip_total_length = ip.len #5\n",
    "        ip_id = ip.id #6\n",
    "        ip_flags = ip.opts #7\n",
    "        #ip_frag_offset = ip.off & dpkt.ip.IP_OFFMASK #8 this field was removed because the more_fragments are more meaningful\n",
    "        more_fragments = 1 if (int(ip.off & dpkt.ip.IP_MF)!= 0) else 0  #8 This flag is set to a 1 for all fragments except the last one\n",
    "        ip_ttl = ip.ttl #9\n",
    "        ip_proto = ip.p #10\n",
    "        ip_checksum = ip.sum #11\n",
    "        ip_src  = socket.inet_ntoa(ip.src) #12\n",
    "        ip_dst  = socket.inet_ntoa(ip.dst) #13\n",
    "        tcp_sport = (proto.sport if ip.p == 6 else 0) #14\n",
    "        tcp_dport = (proto.dport if ip.p == 6 else 0) #15\n",
    "        tcp_seq_id = (proto.flags if ip.p == 6 else 0) #16\n",
    "        tcp_ack_id = (proto.ack if ip.p == 6 else 0) #17\n",
    "        tcp_offset = (proto.off if ip.p == 6 else 0) #18\n",
    "        tcp_ns = (proto.seq if ip.p == 6 else 0) #19\n",
    "        tcp_cwr = (int(( proto.flags & dpkt.tcp.TH_CWR ) != 0) if ip.p == 6 else 0) #20\n",
    "        tcp_ece = (int(( proto.flags & dpkt.tcp.TH_ECE ) != 0) if ip.p == 6 else 0) #21\n",
    "        tcp_urg = (int(( proto.flags & dpkt.tcp.TH_URG ) != 0) if ip.p == 6 else 0) #22\n",
    "        tcp_ack = (int(( proto.flags & dpkt.tcp.TH_ACK ) != 0) if ip.p == 6 else 0) #23\n",
    "        tcp_psh = (int(( proto.flags & dpkt.tcp.TH_PUSH) != 0) if ip.p == 6 else 0) #24\n",
    "        tcp_rst = (int(( proto.flags & dpkt.tcp.TH_RST ) != 0) if ip.p == 6 else 0) #25\n",
    "        tcp_syn = (int(( proto.flags & dpkt.tcp.TH_SYN ) != 0) if ip.p == 6 else 0) #26\n",
    "        tcp_fin = (int(( proto.flags & dpkt.tcp.TH_FIN ) != 0) if ip.p == 6 else 0) #27\n",
    "        tcp_window = (proto.win if ip.p == 6 else 0) #28\n",
    "        tcp_len = (len(proto.data) if ip.p == 6 else 0) #29\n",
    "        udp_sport = (proto.sport if ip.p == 17 else 0) #30\n",
    "        udp_dport = (proto.dport if ip.p == 17 else 0) #31\n",
    "        udp_len = (proto.ulen if ip.p == 17 else 0) #32\n",
    "        udp_checksum = (proto.sum if ip.p == 17 else 0) #33\n",
    " \n",
    "        print >> outputfile, ts,ip_version,ip_header_length,ip_tos,ip_total_length,ip_id,ip_flags,more_fragments,ip_ttl,ip_proto,ip_checksum,ip_src,ip_dst,tcp_sport,tcp_dport,tcp_seq_id,tcp_ack_id,tcp_offset,tcp_ns,tcp_cwr,tcp_ece,tcp_urg,tcp_ack,tcp_psh,tcp_rst,tcp_syn,tcp_fin,tcp_window,tcp_len,udp_sport,udp_dport,udp_len,udp_checksum"
   ]
  },
  {
   "cell_type": "markdown",
   "metadata": {},
   "source": [
    "###### TO-DO: before print the informations above, it will be interesting to add a few more information about the payload of the application =P"
   ]
  },
  {
   "cell_type": "code",
   "execution_count": 6,
   "metadata": {
    "collapsed": true
   },
   "outputs": [],
   "source": [
    "        # if proto.dport == 80 and len(proto.data) > 0:\n",
    "        #    http = dpkt.http.Request(proto.data)\n",
    "        #    print http.len"
   ]
  }
 ],
 "metadata": {
  "kernelspec": {
   "display_name": "Python 2",
   "language": "python",
   "name": "python2"
  },
  "language_info": {
   "codemirror_mode": {
    "name": "ipython",
    "version": 2
   },
   "file_extension": ".py",
   "mimetype": "text/x-python",
   "name": "python",
   "nbconvert_exporter": "python",
   "pygments_lexer": "ipython2",
   "version": "2.7.11"
  }
 },
 "nbformat": 4,
 "nbformat_minor": 0
}
