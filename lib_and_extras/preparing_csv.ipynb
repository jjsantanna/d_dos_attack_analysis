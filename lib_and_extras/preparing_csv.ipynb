{
 "cells": [
  {
   "cell_type": "markdown",
   "metadata": {},
   "source": [
    "###### Starting the script"
   ]
  },
  {
   "cell_type": "code",
   "execution_count": 1,
   "metadata": {
    "collapsed": false
   },
   "outputs": [
    {
     "name": "stdout",
     "output_type": "stream",
     "text": []
    }
   ],
   "source": [
    "#!/bin/bash"
   ]
  },
  {
   "cell_type": "markdown",
   "metadata": {},
   "source": [
    "###### Opening the pre-defined output folder (NOTE: this is hard-coded)"
   ]
  },
  {
   "cell_type": "code",
   "execution_count": null,
   "metadata": {
    "collapsed": true
   },
   "outputs": [],
   "source": [
    "cd output_example "
   ]
  },
  {
   "cell_type": "markdown",
   "metadata": {},
   "source": [
    "###### In the output folder is stored the results for each pcap analysed. For each pcap there are other folder. Inside those folders there are two important files \".pig_header\" (that contains the header of the columns) and \"part-r-00000\" (that contains the results itself)"
   ]
  },
  {
   "cell_type": "code",
   "execution_count": null,
   "metadata": {
    "collapsed": true
   },
   "outputs": [],
   "source": [
    "ls -d */| while read folder \n",
    "do\n",
    "\tcd $folder #open the analysis folder of one pcap\n",
    "\tls -d */| while read folder #For each folder into the analysis...\n",
    "\tdo\n",
    "\t\tcd $folder #Open the folder\n",
    "\t\tcat .pig_header part-r-00000 > part-r-00000.csv #Join the header with the results into a csv file\n",
    "\t\tcd ..\n",
    "\tdone\n",
    "\tcd ..\n",
    "done"
   ]
  }
 ],
 "metadata": {
  "kernelspec": {
   "display_name": "Bash",
   "language": "bash",
   "name": "bash"
  },
  "language_info": {
   "codemirror_mode": "shell",
   "file_extension": ".sh",
   "mimetype": "text/x-sh",
   "name": "bash"
  }
 },
 "nbformat": 4,
 "nbformat_minor": 0
}
